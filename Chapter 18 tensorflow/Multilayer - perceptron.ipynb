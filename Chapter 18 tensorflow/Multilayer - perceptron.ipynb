{
 "cells": [
  {
   "cell_type": "code",
   "execution_count": 1,
   "metadata": {},
   "outputs": [],
   "source": [
    "import tensorflow as tf"
   ]
  },
  {
   "cell_type": "code",
   "execution_count": 192,
   "metadata": {},
   "outputs": [],
   "source": [
    "from tensorflow.examples.tutorials.mnist import input_data"
   ]
  },
  {
   "cell_type": "code",
   "execution_count": 193,
   "metadata": {},
   "outputs": [],
   "source": [
    "import pandas as pd\n",
    "import seaborn as sns\n",
    "import numpy as np\n",
    "import matplotlib.pyplot as plt\n",
    "import time\n",
    "%matplotlib inline"
   ]
  },
  {
   "cell_type": "code",
   "execution_count": 194,
   "metadata": {},
   "outputs": [
    {
     "name": "stdout",
     "output_type": "stream",
     "text": [
      "Extracting /tem/data\\train-images-idx3-ubyte.gz\n",
      "Extracting /tem/data\\train-labels-idx1-ubyte.gz\n",
      "Extracting /tem/data\\t10k-images-idx3-ubyte.gz\n",
      "Extracting /tem/data\\t10k-labels-idx1-ubyte.gz\n"
     ]
    }
   ],
   "source": [
    "df=input_data.read_data_sets('/tem/data',one_hot=True)"
   ]
  },
  {
   "cell_type": "code",
   "execution_count": 195,
   "metadata": {},
   "outputs": [
    {
     "data": {
      "image/png": "[encoded data removed]",
      "text/plain": [
       "<Figure size 432x288 with 1 Axes>"
      ]
     },
     "metadata": {
      "needs_background": "light"
     },
     "output_type": "display_data"
    }
   ],
   "source": [
    "for i in range(10):\n",
    "                   plt.imshow(df.train.images[np.random.randint(0,50000,1)].reshape(28,28),cmap='gray')\n",
    "                    # Wait for 5 seconds\n",
    "                   time.sleep(0.1)"
   ]
  },
  {
   "cell_type": "code",
   "execution_count": 196,
   "metadata": {},
   "outputs": [
    {
     "data": {
      "text/plain": [
       "tensorflow.contrib.learn.python.learn.datasets.base.Datasets"
      ]
     },
     "execution_count": 196,
     "metadata": {},
     "output_type": "execute_result"
    }
   ],
   "source": [
    "type(df)"
   ]
  },
  {
   "cell_type": "code",
   "execution_count": 197,
   "metadata": {},
   "outputs": [],
   "source": [
    "learning_rate=0.01\n",
    "traininf_epochs =15\n",
    "batch_size=100 # 100 data sample(images )\n"
   ]
  },
  {
   "cell_type": "code",
   "execution_count": 198,
   "metadata": {},
   "outputs": [],
   "source": [
    "n_classes =10 # possible number [0,1,2,3....10]"
   ]
  },
  {
   "cell_type": "code",
   "execution_count": 199,
   "metadata": {},
   "outputs": [
    {
     "data": {
      "text/plain": [
       "55000"
      ]
     },
     "execution_count": 199,
     "metadata": {},
     "output_type": "execute_result"
    }
   ],
   "source": [
    "#no of sample\n",
    "n_sample = df.train.num_examples\n",
    "n_sample"
   ]
  },
  {
   "cell_type": "code",
   "execution_count": 200,
   "metadata": {},
   "outputs": [
    {
     "data": {
      "text/plain": [
       "784"
      ]
     },
     "execution_count": 200,
     "metadata": {},
     "output_type": "execute_result"
    }
   ],
   "source": [
    "n_input =len(df.train.images[1])\n",
    "n_input"
   ]
  },
  {
   "cell_type": "code",
   "execution_count": 201,
   "metadata": {},
   "outputs": [],
   "source": [
    "n_hidden_1= 256\n",
    "n_hidden_2= 256"
   ]
  },
  {
   "cell_type": "code",
   "execution_count": 249,
   "metadata": {},
   "outputs": [],
   "source": [
    "def multilayer_percepton(x,weight,biases):\n",
    "    '''\n",
    "    x: placeholder for input data\n",
    "    weight:dictionary of weight\n",
    "    biases: dictionary of biases    \n",
    "    '''\n",
    "    #with REFU(Rectified Linear Unit) ACTIVATION FUNCTION \n",
    "    # first hidden layer\n",
    "    # X*W+b\n",
    "    layer1 = tf.add(tf.matmul(x,weight['h1']),biases['b1'])\n",
    "    # pass to REFU function \n",
    "    #REFU(x*w+b)-->max(0,x)\n",
    "    layer1=tf.nn.relu(layer1)\n",
    "    # 2nd hidden layer\n",
    "    layer2 = tf.add(tf.matmul(layer1,weight['h2']),biases['b2'])\n",
    "    layer2 = tf.nn.relu(layer2)\n",
    "    \n",
    "    #(output layer)\n",
    "    layer_out=tf.add(tf.matmul(layer2,weight['out']),biases['out'])\n",
    "    #layer_out = tf.nn.sigmoid(layer_out)\n",
    "    return layer_out"
   ]
  },
  {
   "cell_type": "code",
   "execution_count": 250,
   "metadata": {},
   "outputs": [],
   "source": [
    "weight={\n",
    "    'h1':tf.Variable(tf.random_normal(shape=[n_input,n_hidden_1])),\n",
    "    \n",
    "    'h2':tf.Variable(tf.random_normal(shape=[n_hidden_1,n_hidden_2])),\n",
    "    'out':tf.Variable(tf.random_normal(shape=[n_hidden_2,n_classes]))   \n",
    "}"
   ]
  },
  {
   "cell_type": "code",
   "execution_count": 251,
   "metadata": {},
   "outputs": [],
   "source": [
    "biases ={\n",
    "      'b1':tf.Variable(tf.random_normal(shape=[n_hidden_1])),\n",
    "       'b2':tf.Variable(tf.random_normal(shape=[n_hidden_2])),\n",
    "      'out':tf.Variable(tf.random_normal(shape=[n_classes]))   \n",
    "}"
   ]
  },
  {
   "cell_type": "code",
   "execution_count": 252,
   "metadata": {},
   "outputs": [],
   "source": [
    "X = tf.placeholder(dtype=tf.float32,shape=[None,n_input])\n",
    "y =tf.placeholder(dtype=tf.float32,shape=[None,n_classes])"
   ]
  },
  {
   "cell_type": "code",
   "execution_count": 253,
   "metadata": {},
   "outputs": [
    {
     "data": {
      "text/plain": [
       "<tf.Tensor 'Add_50:0' shape=(?, 10) dtype=float32>"
      ]
     },
     "execution_count": 253,
     "metadata": {},
     "output_type": "execute_result"
    }
   ],
   "source": [
    "pred  =multilayer_percepton(X,weight,biases)\n",
    "pred"
   ]
  },
  {
   "cell_type": "code",
   "execution_count": 254,
   "metadata": {},
   "outputs": [],
   "source": [
    "#optmizer"
   ]
  },
  {
   "cell_type": "code",
   "execution_count": 255,
   "metadata": {},
   "outputs": [],
   "source": [
    "cost  = tf.reduce_mean(tf.nn.softmax_cross_entropy_with_logits_v2(labels=y,logits=pred))"
   ]
  },
  {
   "cell_type": "code",
   "execution_count": 256,
   "metadata": {},
   "outputs": [],
   "source": [
    "optimization = tf.train.AdadeltaOptimizer(learning_rate=learning_rate,epsilon=traininf_epochs).minimize(cost)"
   ]
  },
  {
   "cell_type": "markdown",
   "metadata": {},
   "source": [
    "# Traning Model"
   ]
  },
  {
   "cell_type": "code",
   "execution_count": 257,
   "metadata": {},
   "outputs": [],
   "source": [
    "t=df.train.next_batch(10) # 10  sample image"
   ]
  },
  {
   "cell_type": "code",
   "execution_count": 258,
   "metadata": {},
   "outputs": [],
   "source": [
    "Xsamp ,ysamp =t"
   ]
  },
  {
   "cell_type": "code",
   "execution_count": 259,
   "metadata": {},
   "outputs": [
    {
     "data": {
      "text/plain": [
       "<matplotlib.image.AxesImage at 0x1e05c5fd7f0>"
      ]
     },
     "execution_count": 259,
     "metadata": {},
     "output_type": "execute_result"
    },
    {
     "data": {
      "image/png": "[encoded data removed]",
      "text/plain": [
       "<Figure size 432x288 with 1 Axes>"
      ]
     },
     "metadata": {
      "needs_background": "light"
     },
     "output_type": "display_data"
    }
   ],
   "source": [
    "plt.imshow(Xsamp[0].reshape(28,28),cmap='gray')"
   ]
  },
  {
   "cell_type": "code",
   "execution_count": 260,
   "metadata": {},
   "outputs": [
    {
     "data": {
      "text/plain": [
       "array([0., 0., 0., 0., 0., 0., 0., 0., 0., 1.])"
      ]
     },
     "execution_count": 260,
     "metadata": {},
     "output_type": "execute_result"
    }
   ],
   "source": [
    "ysamp[0]"
   ]
  },
  {
   "cell_type": "markdown",
   "metadata": {},
   "source": [
    "# Run session"
   ]
  },
  {
   "cell_type": "code",
   "execution_count": 261,
   "metadata": {
    "scrolled": true
   },
   "outputs": [
    {
     "name": "stderr",
     "output_type": "stream",
     "text": [
      "C:\\Users\\negi\\Anaconda3\\lib\\site-packages\\tensorflow\\python\\client\\session.py:1702: UserWarning: An interactive session is already active. This can cause out-of-memory errors in some cases. You must explicitly call `InteractiveSession.close()` to release resources held by the other session(s).\n",
      "  warnings.warn('An interactive session is already active. This can '\n"
     ]
    }
   ],
   "source": [
    "#keep session alive for all cell\n",
    "sess = tf.InteractiveSession()"
   ]
  },
  {
   "cell_type": "code",
   "execution_count": 262,
   "metadata": {},
   "outputs": [],
   "source": [
    "init =  tf.global_variables_initializer()"
   ]
  },
  {
   "cell_type": "code",
   "execution_count": 263,
   "metadata": {},
   "outputs": [],
   "source": [
    "sess.run(init)"
   ]
  },
  {
   "cell_type": "code",
   "execution_count": 264,
   "metadata": {},
   "outputs": [
    {
     "name": "stdout",
     "output_type": "stream",
     "text": [
      "Epoch: 1 , cost 17.34724998474121 \n",
      "Epoch: 2 , cost 10.41332721710205 \n",
      "Epoch: 3 , cost 4.378308296203613 \n",
      "Epoch: 4 , cost 4.730423450469971 \n",
      "Epoch: 5 , cost 4.691118240356445 \n",
      "Epoch: 6 , cost 7.746694564819336 \n",
      "Epoch: 7 , cost 3.76467227935791 \n",
      "Epoch: 8 , cost 2.579737663269043 \n",
      "Epoch: 9 , cost 3.2503914833068848 \n",
      "Epoch: 10 , cost 0.52813321352005 \n",
      "Epoch: 11 , cost 1.820401906967163 \n",
      "Epoch: 12 , cost 0.7726476192474365 \n",
      "Epoch: 13 , cost 2.8916451930999756 \n",
      "Epoch: 14 , cost 1.9543201923370361 \n",
      "Epoch: 15 , cost 0.00016270976630039513 \n",
      "complted traning on 15 epochs\n"
     ]
    }
   ],
   "source": [
    "for epoch in range(traininf_epochs):\n",
    "    #avg cost\n",
    "    avg_cost =0.0\n",
    "    \n",
    "    #total_batch\n",
    "    total_batch = np.int(n_sample/batch_size)\n",
    "    for i in range(total_batch):\n",
    "        #batches\n",
    "        x_btach,y_btach = df.train.next_batch(batch_size)\n",
    "        _,c=sess.run([optimization,cost],feed_dict={X:x_btach,y:y_btach})\n",
    "        avg_cost+=c/batch_size\n",
    "    print(\"Epoch: {} , cost {} \".format(epoch+1,c))\n",
    "\n",
    "    \n",
    "print('complted traning on {} epochs'.format(epoch+1))\n",
    "    \n",
    "    "
   ]
  },
  {
   "cell_type": "code",
   "execution_count": 265,
   "metadata": {},
   "outputs": [],
   "source": [
    "corr_pred = tf.equal(tf.math.argmax(pred,1),tf.math.argmax(y,1))"
   ]
  },
  {
   "cell_type": "code",
   "execution_count": 266,
   "metadata": {},
   "outputs": [
    {
     "data": {
      "text/plain": [
       "<tf.Tensor 'Cast_7:0' shape=(?,) dtype=float32>"
      ]
     },
     "execution_count": 266,
     "metadata": {},
     "output_type": "execute_result"
    }
   ],
   "source": [
    "corr_pred = tf.cast(corr_pred,'float')\n",
    "corr_pred\n"
   ]
  },
  {
   "cell_type": "code",
   "execution_count": 314,
   "metadata": {},
   "outputs": [
    {
     "data": {
      "text/plain": [
       "0.9327"
      ]
     },
     "execution_count": 314,
     "metadata": {},
     "output_type": "execute_result"
    }
   ],
   "source": [
    "acurracy.eval(feed_dict={X:df.test.images,y:df.test.labels})"
   ]
  },
  {
   "cell_type": "markdown",
   "metadata": {},
   "source": [
    "#  Manually test."
   ]
  },
  {
   "cell_type": "code",
   "execution_count": 444,
   "metadata": {},
   "outputs": [
    {
     "data": {
      "text/plain": [
       "3865"
      ]
     },
     "execution_count": 444,
     "metadata": {},
     "output_type": "execute_result"
    }
   ],
   "source": [
    "# RANDOM SIZE VALIDATION INPUT WITH SEED (DEED VALUE IS RANDOM )\n",
    "\n",
    "import numpy as np\n",
    "np.random.seed(np.random.randint(0,10000,1))\n",
    "\n",
    "start=int(np.random.randint(0,4000,1));\n",
    "\n",
    "end=int(4000+np.random.randint(0,1000,1))\n",
    "a=df.validation.images[start:end]\n",
    "b=df.validation.labels[start:end]\n",
    "end-start\n"
   ]
  },
  {
   "cell_type": "code",
   "execution_count": 445,
   "metadata": {},
   "outputs": [
    {
     "data": {
      "text/plain": [
       "(3865, 784)"
      ]
     },
     "execution_count": 445,
     "metadata": {},
     "output_type": "execute_result"
    }
   ],
   "source": [
    "a.shape"
   ]
  },
  {
   "cell_type": "code",
   "execution_count": 446,
   "metadata": {},
   "outputs": [
    {
     "data": {
      "text/plain": [
       "(5000, 784)"
      ]
     },
     "execution_count": 446,
     "metadata": {},
     "output_type": "execute_result"
    }
   ],
   "source": [
    "df.validation.images.shape"
   ]
  },
  {
   "cell_type": "code",
   "execution_count": 447,
   "metadata": {},
   "outputs": [],
   "source": [
    "acurracy = tf.reduce_mean(corr_pred)"
   ]
  },
  {
   "cell_type": "code",
   "execution_count": 448,
   "metadata": {
    "scrolled": true
   },
   "outputs": [
    {
     "data": {
      "text/plain": [
       "0.9379043"
      ]
     },
     "execution_count": 448,
     "metadata": {},
     "output_type": "execute_result"
    }
   ],
   "source": [
    "acurracy.eval(feed_dict={X:a,y:b})"
   ]
  },
  {
   "cell_type": "code",
   "execution_count": 278,
   "metadata": {},
   "outputs": [
    {
     "data": {
      "text/plain": [
       "0.9327"
      ]
     },
     "execution_count": 278,
     "metadata": {},
     "output_type": "execute_result"
    }
   ],
   "source": [
    "acurracy.eval(feed_dict={X:df.test.images,y:df.test.labels})"
   ]
  },
  {
   "cell_type": "markdown",
   "metadata": {},
   "source": [
    "\n",
    "   # df.test"
   ]
  },
  {
   "cell_type": "code",
   "execution_count": 449,
   "metadata": {},
   "outputs": [],
   "source": [
    "X=df.test.images\n",
    "test_result  =multilayer_percepton(X,weight,biases)"
   ]
  },
  {
   "cell_type": "code",
   "execution_count": 450,
   "metadata": {},
   "outputs": [
    {
     "data": {
      "text/plain": [
       "<tf.Tensor 'Add_53:0' shape=(10000, 10) dtype=float32>"
      ]
     },
     "execution_count": 450,
     "metadata": {},
     "output_type": "execute_result"
    }
   ],
   "source": [
    "test_result"
   ]
  },
  {
   "cell_type": "code",
   "execution_count": 451,
   "metadata": {},
   "outputs": [
    {
     "data": {
      "text/plain": [
       "array([ 316.08887,  193.31738,  576.00885,  413.4981 , -123.94763,\n",
       "        259.684  ,   68.23399, -250.99779,  557.7376 ,  -86.18908],\n",
       "      dtype=float32)"
      ]
     },
     "execution_count": 451,
     "metadata": {},
     "output_type": "execute_result"
    }
   ],
   "source": [
    "sess.run(test_result[1])"
   ]
  },
  {
   "cell_type": "code",
   "execution_count": 452,
   "metadata": {},
   "outputs": [
    {
     "data": {
      "text/plain": [
       "<matplotlib.image.AxesImage at 0x1df879e0518>"
      ]
     },
     "execution_count": 452,
     "metadata": {},
     "output_type": "execute_result"
    },
    {
     "data": {
      "image/png": "[encoded data removed]",
      "text/plain": [
       "<Figure size 432x288 with 1 Axes>"
      ]
     },
     "metadata": {
      "needs_background": "light"
     },
     "output_type": "display_data"
    }
   ],
   "source": [
    "plt.imshow(df.test.images[1].reshape(28,28))"
   ]
  },
  {
   "cell_type": "code",
   "execution_count": 453,
   "metadata": {},
   "outputs": [
    {
     "data": {
      "text/plain": [
       "array([ 546.1723 ,  576.00885,  412.6695 , ...,  685.0626 ,  857.8778 ,\n",
       "       1077.8533 ], dtype=float32)"
      ]
     },
     "execution_count": 453,
     "metadata": {},
     "output_type": "execute_result"
    }
   ],
   "source": [
    "# max index in row \n",
    "sess.run(tf.math.reduce_max(tf.nn.relu(test_result),axis=1))"
   ]
  },
  {
   "cell_type": "code",
   "execution_count": 454,
   "metadata": {},
   "outputs": [
    {
     "data": {
      "text/plain": [
       "array([7, 2, 1, ..., 4, 5, 6], dtype=int64)"
      ]
     },
     "execution_count": 454,
     "metadata": {},
     "output_type": "execute_result"
    }
   ],
   "source": [
    "#max value index(along row )\n",
    "sess.run(tf.math.argmax(tf.nn.relu(test_result),axis=1))"
   ]
  },
  {
   "cell_type": "code",
   "execution_count": 455,
   "metadata": {},
   "outputs": [
    {
     "data": {
      "text/plain": [
       "array([[  0.      ,   0.      ,  71.55201 , ..., 546.1723  ,   0.      ,\n",
       "        303.14896 ],\n",
       "       [316.08887 , 193.31738 , 576.00885 , ...,   0.      , 557.7376  ,\n",
       "          0.      ],\n",
       "       [  0.      , 412.6695  ,  80.80324 , ..., 216.60426 , 104.443886,\n",
       "          0.      ],\n",
       "       ...,\n",
       "       [  0.      ,   0.      ,   0.      , ..., 110.35954 , 307.46722 ,\n",
       "        345.4539  ],\n",
       "       [ 39.599182,  44.08604 ,  23.170294, ...,   0.      , 332.21906 ,\n",
       "          0.      ],\n",
       "       [192.64108 ,   0.      ,  86.46562 , ...,   0.      ,   0.      ,\n",
       "        376.70218 ]], dtype=float32)"
      ]
     },
     "execution_count": 455,
     "metadata": {},
     "output_type": "execute_result"
    }
   ],
   "source": [
    "sess.run(tf.nn.relu(test_result))"
   ]
  },
  {
   "cell_type": "code",
   "execution_count": 456,
   "metadata": {},
   "outputs": [
    {
     "data": {
      "text/plain": [
       "0.0"
      ]
     },
     "execution_count": 456,
     "metadata": {},
     "output_type": "execute_result"
    }
   ],
   "source": [
    "sess.run(tf.nn.relu(-0.199))"
   ]
  },
  {
   "cell_type": "code",
   "execution_count": null,
   "metadata": {},
   "outputs": [],
   "source": []
  }
 ],
 "metadata": {
  "kernelspec": {
   "display_name": "Python 3",
   "language": "python",
   "name": "python3"
  },
  "language_info": {
   "codemirror_mode": {
    "name": "ipython",
    "version": 3
   },
   "file_extension": ".py",
   "mimetype": "text/x-python",
   "name": "python",
   "nbconvert_exporter": "python",
   "pygments_lexer": "ipython3",
   "version": "3.7.1"
  }
 },
 "nbformat": 4,
 "nbformat_minor": 2
}
